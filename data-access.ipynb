{
 "cells": [
  {
   "cell_type": "markdown",
   "id": "fb32b567-7aa7-4c37-aa0e-0a7a1022f6f7",
   "metadata": {},
   "source": [
    "# Data Access on the Planetary Computer\n",
    "\n",
    "In this notebook, we'll take a whirlwind tour of accessing geospatial data in many flavors."
   ]
  },
  {
   "cell_type": "code",
   "execution_count": null,
   "id": "bb031f5c-86da-428f-8e4b-498789f2fd39",
   "metadata": {},
   "outputs": [],
   "source": [
    "import pystac_client\n",
    "import planetary_computer\n",
    "import stackstac\n",
    "import numpy as np\n",
    "import geopandas\n",
    "import warnings\n",
    "import fsspec\n",
    "import xarray as xr\n",
    "import cartopy.crs as ccrs\n",
    "import matplotlib.pyplot as plt\n",
    "import urllib.request\n",
    "import matplotlib.pyplot as plt\n",
    "import cartopy.crs as ccrs\n",
    "\n",
    "\n",
    "warnings.filterwarnings(\"ignore\", message=\"pandas.Float64Index\")\n",
    "\n",
    "catalog = pystac_client.Client.open(\"https://planetarycomputer.microsoft.com/api/stac/v1\")"
   ]
  },
  {
   "cell_type": "code",
   "execution_count": null,
   "id": "ab0cd0a6-ca02-44c9-bebc-0beb15c44ff3",
   "metadata": {},
   "outputs": [],
   "source": [
    "from distributed import Client\n",
    "\n",
    "client = Client()\n",
    "client"
   ]
  },
  {
   "cell_type": "markdown",
   "id": "a3098f2c-80d1-47ef-99ed-f50008dde279",
   "metadata": {},
   "source": [
    "## Raster Data\n",
    "\n",
    "Raster data is typically stored as Cloud Optimized GeoTIFF. Some examples include\n",
    "\n",
    "* Satellite imagery / aerial photography\n",
    "    - [Landsat C2-L2](https://planetarycomputer.microsoft.com/dataset/landsat-8-c2-l2)\n",
    "    - [Sentinel 2 L2A](https://planetarycomputer.microsoft.com/dataset/sentinel-2-l2a)\n",
    "    - [NAIP](https://planetarycomputer.microsoft.com/dataset/naip)\n",
    "* Land use / land cover\n",
    "    - [Esri / IO 10-Meter Land Cover](https://planetarycomputer.microsoft.com/dataset/io-lulc-9-class)\n",
    "    - [Land Cover of Canada](https://planetarycomputer.microsoft.com/dataset/nrcan-landcover)\n",
    "* Elevation\n",
    "    - [COP DEM](https://planetarycomputer.microsoft.com/dataset/cop-dem-glo-30)\n",
    "    - [NASADEM](https://planetarycomputer.microsoft.com/dataset/nasadem)\n",
    "* \"Derived variables\"\n",
    "    - [Chloris Biomass](https://planetarycomputer.microsoft.com/dataset/chloris-biomass)\n",
    "    - [HGB](https://planetarycomputer.microsoft.com/dataset/hgb)\n",
    "    - [HREA](https://planetarycomputer.microsoft.com/dataset/hrea)\n",
    "\n"
   ]
  },
  {
   "cell_type": "code",
   "execution_count": null,
   "id": "9e3da4f5-b881-4e29-a2ec-516bde80cf14",
   "metadata": {},
   "outputs": [],
   "source": [
    "search = catalog.search(\n",
    "    bbox=[-122.28, 47.55, -121.96, 47.75],\n",
    "    datetime=\"2020-01-01/2020-12-31\",\n",
    "    collections=[\"sentinel-2-l2a\"],\n",
    "    query={\"eo:cloud_cover\": {\"lt\": 25}},\n",
    ")\n",
    "\n",
    "items = search.get_all_items()\n",
    "print(len(items))"
   ]
  },
  {
   "cell_type": "code",
   "execution_count": null,
   "id": "72e681e2-0e14-4429-91b8-f044de0ac616",
   "metadata": {},
   "outputs": [],
   "source": [
    "signed_items = planetary_computer.sign(items)"
   ]
  },
  {
   "cell_type": "code",
   "execution_count": null,
   "id": "13b35f01-31e3-4552-81ad-22e5fea4bc89",
   "metadata": {},
   "outputs": [],
   "source": [
    "data = (\n",
    "    stackstac.stack(\n",
    "        signed_items,\n",
    "        assets=[\"B04\", \"B08\"],  # red, nir\n",
    "        resolution=100,\n",
    "    )\n",
    "    .where(lambda x: x > 0, other=np.nan)  # sentinel-2 uses 0 as nodata\n",
    ")\n",
    "data"
   ]
  },
  {
   "cell_type": "code",
   "execution_count": null,
   "id": "a76149d5-00df-4b06-b523-14426cdebc98",
   "metadata": {},
   "outputs": [],
   "source": [
    "red = data.sel(band=\"B04\")\n",
    "nir = data.sel(band=\"B08\")\n",
    "\n",
    "ndvi = (red - nir) / (red + nir)\n",
    "x = ndvi.isel(time=0).persist()"
   ]
  },
  {
   "cell_type": "code",
   "execution_count": null,
   "id": "3c7b726a-0c37-4b20-b73f-51fc6dee4781",
   "metadata": {},
   "outputs": [],
   "source": [
    "m = stackstac.show(x, range=(-0.9, 0.9))\n",
    "m.scroll_wheel_zoom = True\n",
    "m"
   ]
  },
  {
   "cell_type": "markdown",
   "id": "8962eefe-3798-47e7-a57e-18c15c71be0d",
   "metadata": {},
   "source": [
    "Derived products like the Chloris Biomass dataset also are fall in this bucket."
   ]
  },
  {
   "cell_type": "markdown",
   "id": "2f5a63aa-1849-4b56-a24a-59e550de3087",
   "metadata": {},
   "source": [
    "## Earth systems data\n",
    "\n",
    "* Climate model output\n",
    "* Reanalysis\n",
    "\n",
    "Typically stored as Zarr or NetCDF."
   ]
  },
  {
   "cell_type": "code",
   "execution_count": null,
   "id": "baf1af71-3580-4d3a-8786-2601508d2e15",
   "metadata": {},
   "outputs": [],
   "source": []
  },
  {
   "cell_type": "code",
   "execution_count": null,
   "id": "94f65557-c31c-4083-86f2-49e2baad2333",
   "metadata": {},
   "outputs": [],
   "source": [
    "terraclimate = catalog.get_collection(\"terraclimate\")\n",
    "asset = terraclimate.assets[\"zarr-https\"]\n",
    "\n",
    "\n",
    "store = fsspec.get_mapper(asset.href)\n",
    "ds = xr.open_zarr(store, **asset.extra_fields[\"xarray:open_kwargs\"])\n",
    "ds"
   ]
  },
  {
   "cell_type": "code",
   "execution_count": null,
   "id": "06b308c2-36f8-4de6-96b2-85b0870ac47e",
   "metadata": {},
   "outputs": [],
   "source": [
    "average_max_temp = ds.isel(time=-1)[\"tmax\"].coarsen(lat=8, lon=8).mean().load()\n",
    "\n",
    "fig, ax = plt.subplots(figsize=(20, 10), subplot_kw=dict(projection=ccrs.Robinson()))\n",
    "\n",
    "average_max_temp.plot(ax=ax, transform=ccrs.PlateCarree())\n",
    "ax.coastlines();\n"
   ]
  },
  {
   "cell_type": "markdown",
   "id": "05bf3bf0-e02b-41e9-bcc8-0724d3892cc3",
   "metadata": {},
   "source": [
    "## Operational forecast data\n",
    "\n",
    "* Weather forecast\n",
    "\n",
    "Typcially stored as Zarr or GRIB2."
   ]
  },
  {
   "cell_type": "code",
   "execution_count": null,
   "id": "8ff3e346-7578-4d42-ae61-f2944aa0c3c5",
   "metadata": {},
   "outputs": [],
   "source": []
  },
  {
   "cell_type": "code",
   "execution_count": null,
   "id": "b641257c-7856-4874-a178-cc963cbfe4a6",
   "metadata": {},
   "outputs": [],
   "source": [
    "staging_catalog = pystac_client.Client.open(\n",
    "    \"https://planetarycomputer-staging.microsoft.com/api/stac/v1\"\n",
    ")\n",
    "search = staging_catalog.search(\n",
    "    collections=[\"ecmwf-forecast\"],\n",
    "    query={\n",
    "        \"ecmwf:stream\": {\"eq\": \"wave\"},\n",
    "        \"ecmwf:type\": {\"eq\": \"fc\"},\n",
    "        \"ecmwf:step\": {\"eq\": \"0h\"},\n",
    "    },\n",
    ")\n",
    "items = search.get_all_items()\n",
    "item = items[0]\n",
    "item"
   ]
  },
  {
   "cell_type": "code",
   "execution_count": null,
   "id": "a1fcf890-b46d-4042-ac5f-c100cd5abd33",
   "metadata": {},
   "outputs": [],
   "source": [
    "url = item.assets[\"data\"].href\n",
    "filename, _ = urllib.request.urlretrieve(url)\n",
    "\n",
    "ds = xr.open_dataset(filename, engine=\"cfgrib\")\n",
    "ds"
   ]
  },
  {
   "cell_type": "code",
   "execution_count": null,
   "id": "189fbdf8-30bf-4e98-a4e8-4b3f50bcfd7e",
   "metadata": {},
   "outputs": [],
   "source": [
    "projection = projection = ccrs.Robinson()\n",
    "fig, ax = plt.subplots(figsize=(16, 9), subplot_kw=dict(projection=projection))\n",
    "\n",
    "ds.swh.plot(ax=ax, transform=ccrs.PlateCarree());"
   ]
  },
  {
   "cell_type": "code",
   "execution_count": null,
   "id": "6f07ee38-5379-4519-ab1f-c8046cfdefda",
   "metadata": {},
   "outputs": [],
   "source": [
    "import seaborn as sns\n",
    "\n",
    "grid = sns.jointplot(\n",
    "    x=ds.mwp.data.ravel(), y=ds.swh.data.ravel(), alpha=0.25, marker=\".\", height=12\n",
    ")\n",
    "grid.ax_joint.set(xlabel=\"Mean wave period\", ylabel=\"Significant wave height\");"
   ]
  },
  {
   "cell_type": "markdown",
   "id": "2b691c28-1567-4d5d-ae8c-928d60c42766",
   "metadata": {},
   "source": [
    "## Tabular data\n",
    "\n",
    "Typically stored as geoparquet"
   ]
  },
  {
   "cell_type": "code",
   "execution_count": null,
   "id": "0262d410-a656-42d2-ba58-5637b778cdad",
   "metadata": {},
   "outputs": [],
   "source": [
    "search = catalog.search(collections=[\"us-census\"])\n",
    "items = planetary_computer.sign(search.get_all_items())\n",
    "items = {x.id: x for x in items}\n",
    "item = items[\"2020-cb_2020_us_cd116_500k\"]\n",
    "item"
   ]
  },
  {
   "cell_type": "code",
   "execution_count": null,
   "id": "21973fdd-6745-4f3e-9257-6506b68a1210",
   "metadata": {},
   "outputs": [],
   "source": [
    "asset = item.assets[\"data\"]\n",
    "df = geopandas.read_parquet(asset.href, storage_options=asset.extra_fields[\"table:storage_options\"])\n",
    "df"
   ]
  },
  {
   "cell_type": "code",
   "execution_count": null,
   "id": "91af64e9-3365-48ed-b1e6-7ef075719df4",
   "metadata": {},
   "outputs": [],
   "source": [
    "maryland = df[df.STATEFP == \"24\"].astype({\"GEOID\": \"category\"})\n",
    "maryland.explore(column=\"GEOID\")"
   ]
  },
  {
   "cell_type": "code",
   "execution_count": null,
   "id": "87c0a2ce-8ede-4781-a4ad-36844dc65efd",
   "metadata": {},
   "outputs": [],
   "source": [
    "import dask_geopandas\n",
    "asset = items[\"2020-census-blocks-geo\"].assets[\"data\"]\n",
    "\n",
    "geo = dask_geopandas.read_parquet(\n",
    "    asset.href,\n",
    "    storage_options=asset.extra_fields[\"table:storage_options\"],\n",
    ")\n",
    "geo"
   ]
  },
  {
   "cell_type": "code",
   "execution_count": null,
   "id": "65599a84-6ea6-437f-a891-d5d431519c8c",
   "metadata": {},
   "outputs": [],
   "source": [
    "import dask.dataframe\n",
    "asset = items[\"2020-census-blocks-population\"].assets[\"data\"]\n",
    "\n",
    "pop = dask.dataframe.read_parquet(\n",
    "    asset.href,\n",
    "    storage_options=asset.extra_fields[\"table:storage_options\"],\n",
    ")\n",
    "pop"
   ]
  },
  {
   "cell_type": "code",
   "execution_count": null,
   "id": "9d241308-838e-4d40-ac5c-4abfd9274336",
   "metadata": {},
   "outputs": [],
   "source": [
    "df = geo.join(pop)\n",
    "df"
   ]
  },
  {
   "cell_type": "code",
   "execution_count": null,
   "id": "50af9950-52c5-4dde-8f45-58c5d7d80751",
   "metadata": {},
   "outputs": [],
   "source": [
    "start = [x for x in geo.divisions if x.startswith(\"44\")][0]\n",
    "stop = \"4499\"\n",
    "\n",
    "ri = geo.loc[start:stop].compute()\n",
    "ri.head()"
   ]
  },
  {
   "cell_type": "markdown",
   "id": "1f5dcbe6-e7a5-481d-ae38-9e8229c3f08f",
   "metadata": {},
   "source": [
    "## Point-cloud data\n",
    "\n",
    "Typically stored as COPC."
   ]
  },
  {
   "cell_type": "code",
   "execution_count": null,
   "id": "450514c9-7720-4563-ab03-2c72fc4a8089",
   "metadata": {},
   "outputs": [],
   "source": []
  },
  {
   "cell_type": "code",
   "execution_count": null,
   "id": "371e1957-76d1-4c23-8bc8-71c7259ccd93",
   "metadata": {},
   "outputs": [],
   "source": []
  },
  {
   "cell_type": "code",
   "execution_count": null,
   "id": "ec94f976-f263-4c47-9ff6-39f442e73111",
   "metadata": {},
   "outputs": [],
   "source": []
  },
  {
   "cell_type": "markdown",
   "id": "39c80c37-968b-4f62-beb7-3cc002bfd789",
   "metadata": {},
   "source": []
  },
  {
   "cell_type": "code",
   "execution_count": null,
   "id": "e81ab909-ee2c-41a4-8b7f-a018d1e405a3",
   "metadata": {},
   "outputs": [],
   "source": []
  }
 ],
 "metadata": {
  "kernelspec": {
   "display_name": "Python 3 (ipykernel)",
   "language": "python",
   "name": "python3"
  },
  "language_info": {
   "codemirror_mode": {
    "name": "ipython",
    "version": 3
   },
   "file_extension": ".py",
   "mimetype": "text/x-python",
   "name": "python",
   "nbconvert_exporter": "python",
   "pygments_lexer": "ipython3",
   "version": "3.8.13"
  }
 },
 "nbformat": 4,
 "nbformat_minor": 5
}
