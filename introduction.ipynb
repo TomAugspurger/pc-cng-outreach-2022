{
 "cells": [
  {
   "cell_type": "markdown",
   "id": "96f993a1-4b40-48d4-80e5-10fc92e76575",
   "metadata": {},
   "source": [
    "# Introduction\n",
    "\n",
    "A *very brief* introduction to the Planetary Computer.\n",
    "\n",
    "We host lots of geospatial data. Anyone can use it (ideally from Azure!).\n",
    "\n",
    "<img src=\"data-catalog.png\" width=\"50%\"/>"
   ]
  },
  {
   "cell_type": "markdown",
   "id": "ecf0981b-85ea-4b3f-930d-581127f47b97",
   "metadata": {},
   "source": [
    "We provide APIs for searching and working with that data"
   ]
  },
  {
   "cell_type": "code",
   "execution_count": null,
   "id": "c71fce63-3f4f-49b5-8fb6-52ba92953f44",
   "metadata": {},
   "outputs": [],
   "source": [
    "from IPython.display import IFrame\n",
    "\n",
    "IFrame(\"https://planetarycomputer-staging.microsoft.com/api/stac/v1/docs\", width=800, height=400)"
   ]
  },
  {
   "cell_type": "markdown",
   "id": "29bf896f-aa15-4c59-af31-626254a2ba5e",
   "metadata": {},
   "source": [
    "Azure has many ways of doing compute. We host a Dask-enabled JupyterHub. Right now we're on another JupyterHub deployment.\n",
    "\n",
    "That's the Planetary Computer: Data + APIs + Compute, all on Azure."
   ]
  },
  {
   "cell_type": "markdown",
   "id": "62a8e5a9-f97a-4109-99b0-937866e37d5f",
   "metadata": {},
   "source": [
    "## Cloud-native\n",
    "\n",
    "1. We host public datasets.\n",
    "2. *Everyone* has *direct* access to *all* of the data.\n",
    "3. Compute is next to the data.\n",
    "4. Cloud-native file formats\n",
    "5. Scale"
   ]
  },
  {
   "cell_type": "markdown",
   "id": "8385847f-f42a-42fb-9448-b9cfbcca059a",
   "metadata": {},
   "source": [
    "### Compute → Data\n",
    "\n",
    "Putting the compute next to the data can be crucial for performance. Let's consider the simple task of reading the metadata from a COG file with `gdalinfo`.\n",
    "\n",
    "Running this command from my laptop in Des Moines, IA, we spend a *lot* of time waiting:\n",
    "\n",
    "```console\n",
    "$ time gdalinfo /vsicurl/https://naipeuwest.blob.core.windows.net/naip/v002/ia/2019/ia_60cm_2019/42091/m_4209150_sw_15_060_20190828.tif > /dev/null\n",
    "real    0m7.158s\n",
    "user    0m0.195s\n",
    "sys     0m0.032s\n",
    "```"
   ]
  },
  {
   "cell_type": "markdown",
   "id": "fafa6826-f0a1-4ce4-b93e-b684b9d72696",
   "metadata": {},
   "source": [
    "Running that from this Jupyter kernel, which is in the same Azure data center as the dataset, things look different."
   ]
  },
  {
   "cell_type": "code",
   "execution_count": null,
   "id": "8efe036d-89d9-4717-82f7-b64310121765",
   "metadata": {},
   "outputs": [],
   "source": [
    "!time gdalinfo /vsicurl/https://naipeuwest.blob.core.windows.net/naip/v002/ia/2019/ia_60cm_2019/42091/m_4209150_sw_15_060_20190828.tif > /dev/null"
   ]
  },
  {
   "cell_type": "markdown",
   "id": "510c1a54-9c8e-4566-8970-22e310a32dbb",
   "metadata": {},
   "source": [
    "So about 7s -> 0.2s!"
   ]
  },
  {
   "cell_type": "markdown",
   "id": "2a97a5e6-a7e8-4c4b-adb3-d83d208275d1",
   "metadata": {},
   "source": [
    "## STAC\n",
    "\n",
    "Having access to the data is great, but it's not enough. How do you find all the Sentinel-2 images over Wyoming for July 2021? Consider what we'd do if we just had files in blob storage:"
   ]
  },
  {
   "cell_type": "code",
   "execution_count": null,
   "id": "90dedf8e-76a4-45c8-ab80-a98890e9b9ce",
   "metadata": {},
   "outputs": [],
   "source": [
    "import adlfs\n",
    "import planetary_computer\n",
    "\n",
    "token = planetary_computer.sas.get_token(\"sentinel2l2a01\", \"sentinel2-l2\").token\n",
    "\n",
    "fs = adlfs.AzureBlobFileSystem(\"sentinel2l2a01\", credential=token)\n",
    "fs.ls(\"sentinel2-l2/01/C/DH/2021/\")  # ...?"
   ]
  },
  {
   "cell_type": "markdown",
   "id": "bc7d692e-410c-445d-9c02-d5f58dc951a1",
   "metadata": {},
   "source": [
    "Some of those kinda look like dates. I don't know what the \"C\" and \"DH\" mean.\n",
    "\n",
    "But STAC makes this kind of spatio-temporal filtering straightforward."
   ]
  },
  {
   "cell_type": "code",
   "execution_count": null,
   "id": "384110d0-694f-4cfb-affe-fd301ea42d65",
   "metadata": {},
   "outputs": [],
   "source": [
    "import pystac_client\n",
    "\n",
    "catalog = pystac_client.Client.open(\"https://planetarycomputer.microsoft.com/api/stac/v1\")"
   ]
  },
  {
   "cell_type": "code",
   "execution_count": null,
   "id": "7c04472f-f054-4460-b342-159363621978",
   "metadata": {},
   "outputs": [],
   "source": [
    "wyoming_bbox = [-111.0717, 41.0296, -103.9965, 45.02695]\n",
    "search = catalog.search(collections=[\"sentinel-2-l2a\"], bbox=wyoming_bbox, datetime=\"2021-07-01/2021-07-31\")\n",
    "%time items = search.get_all_items()"
   ]
  },
  {
   "cell_type": "code",
   "execution_count": null,
   "id": "13343f76-fa84-424f-8a99-ab8ecbcbfed9",
   "metadata": {},
   "outputs": [],
   "source": [
    "len(items)"
   ]
  },
  {
   "cell_type": "markdown",
   "id": "5b8fe313-be32-4fa8-8483-1e1883db1b3e",
   "metadata": {},
   "source": [
    "Now do the same thing for `landsat-8-c2-l2`.."
   ]
  },
  {
   "cell_type": "code",
   "execution_count": null,
   "id": "182640ee-2453-4507-92f7-3bee685fb58a",
   "metadata": {},
   "outputs": [],
   "source": [
    "# we'll improve this later\n",
    "wyoming_bbox = [-111.0717, 41.0296, -103.9965, 45.02695]\n",
    "search = catalog.search(collections=[\"landsat-8-c2-l2\"], bbox=wyoming_bbox, datetime=\"2021-07-01/2021-07-31\")\n",
    "%time landsat_items = search.get_all_items()"
   ]
  },
  {
   "cell_type": "code",
   "execution_count": null,
   "id": "06321d68-44b3-41d7-a759-103c3d4f8b1a",
   "metadata": {},
   "outputs": [],
   "source": [
    "import geopandas\n",
    "\n",
    "df = geopandas.GeoDataFrame.from_features(items.to_dict()).set_crs(4326)\n",
    "\n",
    "df[[\"geometry\", \"s2:mgrs_tile\", \"datetime\"]].explore(column=\"s2:mgrs_tile\", style_kwds={\"fillOpacity\": 0.1})"
   ]
  },
  {
   "cell_type": "markdown",
   "id": "e77eefd7-ab77-491b-bdbb-ab75ef3d969b",
   "metadata": {},
   "source": [
    "## Data APIs"
   ]
  },
  {
   "cell_type": "code",
   "execution_count": null,
   "id": "c611edf3-7c1f-4f64-a893-dc3eef747172",
   "metadata": {},
   "outputs": [],
   "source": [
    "item = items[0]\n",
    "item.assets"
   ]
  },
  {
   "cell_type": "code",
   "execution_count": null,
   "id": "2e474f19-98d5-42ab-ba3e-3e8421da9802",
   "metadata": {},
   "outputs": [],
   "source": [
    "import ipyleaflet\n",
    "import requests\n",
    "import shapely"
   ]
  },
  {
   "cell_type": "code",
   "execution_count": null,
   "id": "76e3d926-5bf8-484a-bdf6-72778f2c2bf2",
   "metadata": {},
   "outputs": [],
   "source": [
    "def plot(item, map_kwargs={}):\n",
    "    tiles_url, = requests.get(item.assets[\"tilejson\"].href).json()[\"tiles\"]\n",
    "    center = shapely.geometry.shape(item.geometry).centroid.bounds[1::-1]\n",
    "\n",
    "    m = ipyleaflet.Map(center=center, controls=[ipyleaflet.FullScreenControl()], **map_kwargs)\n",
    "    layer = m.add_layer(ipyleaflet.TileLayer(url=tiles_url))\n",
    "    m.scroll_wheel_zoom = True\n",
    "    return m"
   ]
  },
  {
   "cell_type": "code",
   "execution_count": null,
   "id": "2d0047fb-d95d-47f0-811b-cfcbbbac0be4",
   "metadata": {},
   "outputs": [],
   "source": [
    "plot(items[1])"
   ]
  },
  {
   "cell_type": "code",
   "execution_count": null,
   "id": "9c6d55a5-d34e-4ec8-b623-6b59744480de",
   "metadata": {},
   "outputs": [],
   "source": [
    "wyoming_bbox = [-111.0717, 41.0296, -103.9965, 45.02695]\n",
    "search = catalog.search(\n",
    "    collections=[\"sentinel-2-l2a\"], bbox=wyoming_bbox, datetime=\"2021-07-01/2021-07-31\",\n",
    "    query={\"eo:cloud_cover\": {\"lt\": 10}}\n",
    ")\n",
    "%time items = search.get_all_items()\n",
    "len(items)"
   ]
  },
  {
   "cell_type": "code",
   "execution_count": null,
   "id": "c19f1a54-f94c-4d1d-86f1-8c156d25997c",
   "metadata": {},
   "outputs": [],
   "source": [
    "plot(items[1], map_kwargs=dict(zoom=9))"
   ]
  }
 ],
 "metadata": {
  "kernelspec": {
   "display_name": "Python 3 (ipykernel)",
   "language": "python",
   "name": "python3"
  },
  "language_info": {
   "codemirror_mode": {
    "name": "ipython",
    "version": 3
   },
   "file_extension": ".py",
   "mimetype": "text/x-python",
   "name": "python",
   "nbconvert_exporter": "python",
   "pygments_lexer": "ipython3",
   "version": "3.8.13"
  }
 },
 "nbformat": 4,
 "nbformat_minor": 5
}
