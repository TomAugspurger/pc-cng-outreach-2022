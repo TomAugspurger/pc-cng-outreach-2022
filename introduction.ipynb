{
 "cells": [
  {
   "cell_type": "markdown",
   "id": "8072d2d0",
   "metadata": {},
   "source": [
    "# Introduction\n",
    "\n",
    "A *very brief* introduction to the Planetary Computer."
   ]
  },
  {
   "cell_type": "code",
   "execution_count": null,
   "id": "8d0931cf",
   "metadata": {},
   "outputs": [],
   "source": [
    "import adlfs\n",
    "import planetary_computer\n",
    "import ipyleaflet\n",
    "import requests\n",
    "import shapely\n",
    "from IPython.display import IFrame"
   ]
  },
  {
   "cell_type": "markdown",
   "id": "be119a93-a557-41dd-a697-bfdea16f4680",
   "metadata": {},
   "source": [
    "We host lots of geospatial data. Anyone can use it (ideally from Azure!).\n",
    "\n",
    "<img src=\"data-catalog.png\" width=\"50%\"/>\n",
    "\n",
    "Check out https://planetarycomputer.microsoft.com/catalog for the full catalog.\n",
    "\n",
    "We also provide APIs for searching and working with that data"
   ]
  },
  {
   "cell_type": "code",
   "execution_count": null,
   "id": "c71fce63-3f4f-49b5-8fb6-52ba92953f44",
   "metadata": {},
   "outputs": [],
   "source": [
    "IFrame(\n",
    "    \"https://planetarycomputer-staging.microsoft.com/api/stac/v1/docs\",\n",
    "    width=800,\n",
    "    height=400,\n",
    ")"
   ]
  },
  {
   "cell_type": "markdown",
   "id": "881124fd-9da6-4a64-ae74-bd358a86ca5e",
   "metadata": {},
   "source": [
    "Finally, we offer some compute next to the data. Azure has *many* ways of doing compute, but we host a [Dask-enabled JupyterHub](https://planetarycomputer.microsoft.com/docs/overview/environment/). Right now we're on a separate JupyterHub deployment.\n",
    "\n",
    "So that's the Planetary Computer: Data + APIs + Compute, all on Azure.\n",
    "\n",
    "## Cloud-native Principals\n",
    "\n",
    "The Planetary Computer takes many of the \n",
    "\n",
    "1. We host public datasets.\n",
    "2. *Everyone* has *direct* access to *all* of the data.\n",
    "3. Compute is next to the data.\n",
    "4. Cloud-native file formats\n",
    "5. Scale\n",
    "\n",
    "### Compute → Data\n",
    "\n",
    "Putting the compute next to the data can be crucial for performance. Let's consider the simple task of reading the metadata from a COG file with `gdalinfo`.\n",
    "\n",
    "Running this command from my laptop in Des Moines, IA, we spend a *lot* of time waiting:\n",
    "\n",
    "```console\n",
    "$ time gdalinfo /vsicurl/https://naipeuwest.blob.core.windows.net/naip/v002/ia/2019/ia_60cm_2019/42091/m_4209150_sw_15_060_20190828.tif > /dev/null\n",
    "real    0m7.158s\n",
    "user    0m0.195s\n",
    "sys     0m0.032s\n",
    "```"
   ]
  },
  {
   "cell_type": "markdown",
   "id": "fafa6826-f0a1-4ce4-b93e-b684b9d72696",
   "metadata": {},
   "source": [
    "Running that from this Jupyter kernel, which is in the same Azure data center as the dataset, things look different."
   ]
  },
  {
   "cell_type": "code",
   "execution_count": null,
   "id": "8efe036d-89d9-4717-82f7-b64310121765",
   "metadata": {},
   "outputs": [],
   "source": [
    "!time gdalinfo /vsicurl/https://naipeuwest.blob.core.windows.net/naip/v002/ia/2019/ia_60cm_2019/42091/m_4209150_sw_15_060_20190828.tif > /dev/null"
   ]
  },
  {
   "cell_type": "markdown",
   "id": "510c1a54-9c8e-4566-8970-22e310a32dbb",
   "metadata": {},
   "source": [
    "So a nice 35x speedup!"
   ]
  },
  {
   "cell_type": "markdown",
   "id": "2a97a5e6-a7e8-4c4b-adb3-d83d208275d1",
   "metadata": {},
   "source": [
    "## STAC\n",
    "\n",
    "Having access to the data is great, but it's not enough. For example, how would you find all the Sentinel-2 images over Wyoming for July 2021? Consider what we'd do if we just had files in blob storage:"
   ]
  },
  {
   "cell_type": "code",
   "execution_count": null,
   "id": "90dedf8e-76a4-45c8-ab80-a98890e9b9ce",
   "metadata": {},
   "outputs": [],
   "source": [
    "token = planetary_computer.sas.get_token(\"sentinel2l2a01\", \"sentinel2-l2\").token\n",
    "\n",
    "fs = adlfs.AzureBlobFileSystem(\"sentinel2l2a01\", credential=token)\n",
    "fs.ls(\"sentinel2-l2/01/C/CV/2021\")  # ...?"
   ]
  },
  {
   "cell_type": "markdown",
   "id": "bc7d692e-410c-445d-9c02-d5f58dc951a1",
   "metadata": {},
   "source": [
    "Some of those kinda look like dates. I don't know what the \"C\" and \"DH\" mean.\n",
    "\n",
    "But STAC makes this kind of spatio-temporal filtering straightforward."
   ]
  },
  {
   "cell_type": "code",
   "execution_count": null,
   "id": "384110d0-694f-4cfb-affe-fd301ea42d65",
   "metadata": {},
   "outputs": [],
   "source": [
    "import pystac_client\n",
    "\n",
    "catalog = pystac_client.Client.open(\n",
    "    \"https://planetarycomputer.microsoft.com/api/stac/v1\"\n",
    ")"
   ]
  },
  {
   "cell_type": "code",
   "execution_count": null,
   "id": "7c04472f-f054-4460-b342-159363621978",
   "metadata": {},
   "outputs": [],
   "source": [
    "%%time\n",
    "\n",
    "wyoming_bbox = [-111.0717, 41.0296, -103.9965, 45.02695]\n",
    "search = catalog.search(\n",
    "    collections=[\"sentinel-2-l2a\"], bbox=wyoming_bbox, datetime=\"2021-07-01/2021-07-31\"\n",
    ")\n",
    "items = search.get_all_items()"
   ]
  },
  {
   "cell_type": "code",
   "execution_count": null,
   "id": "13343f76-fa84-424f-8a99-ab8ecbcbfed9",
   "metadata": {},
   "outputs": [],
   "source": [
    "len(items)"
   ]
  },
  {
   "cell_type": "markdown",
   "id": "5b8fe313-be32-4fa8-8483-1e1883db1b3e",
   "metadata": {},
   "source": [
    "Even better: STAC has standardized this. Landsat Collection 2 Level 2, which uses a completely different folder structure, can be searched by just chagning the collection ID."
   ]
  },
  {
   "cell_type": "code",
   "execution_count": null,
   "id": "182640ee-2453-4507-92f7-3bee685fb58a",
   "metadata": {},
   "outputs": [],
   "source": [
    "%%time\n",
    "\n",
    "search = catalog.search(\n",
    "    collections=[\"landsat-8-c2-l2\"], bbox=wyoming_bbox, datetime=\"2021-07-01/2021-07-31\"\n",
    ")\n",
    "landsat_items = search.get_all_items()\n",
    "len(landsat_items)"
   ]
  },
  {
   "cell_type": "markdown",
   "id": "d9265298-aecf-48b3-883a-dcaf94cd1ed8",
   "metadata": {},
   "source": [
    "STAC items are GeoJSON Features. So even though they're just metadata, we can treat them a bit like data."
   ]
  },
  {
   "cell_type": "code",
   "execution_count": null,
   "id": "06321d68-44b3-41d7-a759-103c3d4f8b1a",
   "metadata": {},
   "outputs": [],
   "source": [
    "import geopandas\n",
    "\n",
    "df = geopandas.GeoDataFrame.from_features(items.to_dict()).set_crs(4326)\n",
    "\n",
    "df[[\"geometry\", \"s2:mgrs_tile\", \"datetime\"]].explore(\n",
    "    column=\"datetime\", style_kwds={\"fillOpacity\": 0.1}, cmap=\"viridis\"\n",
    ")"
   ]
  },
  {
   "cell_type": "markdown",
   "id": "e77eefd7-ab77-491b-bdbb-ab75ef3d969b",
   "metadata": {},
   "source": [
    "## Data APIs\n",
    "\n",
    "We provide a data API, based on [TiTiler](https://developmentseed.org/titiler/), which provides endpoints for some common methods. This can be a nice alternative to setting up your own compute in Azure if you're doing something basic."
   ]
  },
  {
   "cell_type": "code",
   "execution_count": null,
   "id": "c611edf3-7c1f-4f64-a893-dc3eef747172",
   "metadata": {},
   "outputs": [],
   "source": [
    "item = items[0]\n",
    "item.assets"
   ]
  },
  {
   "cell_type": "code",
   "execution_count": null,
   "id": "76e3d926-5bf8-484a-bdf6-72778f2c2bf2",
   "metadata": {},
   "outputs": [],
   "source": [
    "def plot(item, map_kwargs={}):\n",
    "    (tiles_url,) = requests.get(item.assets[\"tilejson\"].href).json()[\"tiles\"]\n",
    "    center = shapely.geometry.shape(item.geometry).centroid.bounds[1::-1]\n",
    "\n",
    "    m = ipyleaflet.Map(\n",
    "        center=center, controls=[ipyleaflet.FullScreenControl()], **map_kwargs\n",
    "    )\n",
    "    m.add_layer(ipyleaflet.TileLayer(url=tiles_url))\n",
    "    m.scroll_wheel_zoom = True\n",
    "    return m"
   ]
  },
  {
   "cell_type": "code",
   "execution_count": null,
   "id": "2d0047fb-d95d-47f0-811b-cfcbbbac0be4",
   "metadata": {},
   "outputs": [],
   "source": [
    "plot(items[1])"
   ]
  },
  {
   "cell_type": "markdown",
   "id": "8160011f-40dc-4816-945f-b342e132f298",
   "metadata": {},
   "source": [
    "Whoops, that's a pretty cloudy image. But STAC makes it easy to filter those out."
   ]
  },
  {
   "cell_type": "code",
   "execution_count": null,
   "id": "9c6d55a5-d34e-4ec8-b623-6b59744480de",
   "metadata": {},
   "outputs": [],
   "source": [
    "wyoming_bbox = [-111.0717, 41.0296, -103.9965, 45.02695]\n",
    "search = catalog.search(\n",
    "    collections=[\"sentinel-2-l2a\"],\n",
    "    bbox=wyoming_bbox,\n",
    "    datetime=\"2021-07-01/2021-07-31\",\n",
    "    query={\"eo:cloud_cover\": {\"lt\": 10}},\n",
    ")\n",
    "%time items = search.get_all_items()\n",
    "len(items)"
   ]
  },
  {
   "cell_type": "code",
   "execution_count": null,
   "id": "c19f1a54-f94c-4d1d-86f1-8c156d25997c",
   "metadata": {
    "tags": []
   },
   "outputs": [],
   "source": [
    "plot(items[1], map_kwargs=dict(zoom=9))"
   ]
  },
  {
   "cell_type": "markdown",
   "id": "24f03968-cb4f-4ce3-9dd3-5218f4cca2d9",
   "metadata": {},
   "source": [
    "Fun fact: the STAC and Data APIs power our [explorer](https://planetarycomputer.microsoft.com/explore?c=118.8189%2C37.4070&z=11.00)."
   ]
  },
  {
   "cell_type": "markdown",
   "id": "037a5a78-2232-4ed5-bf87-c03570a00c88",
   "metadata": {},
   "source": [
    "### Scaling\n",
    "\n",
    "```python\n",
    ">>> from dask_gateway import GatewayCluster\n",
    ">>> cluater = GatewayCluster()\n",
    ">>> cluster.scale(40)\n",
    ">>> client = cluster.get_client()\n",
    "```"
   ]
  }
 ],
 "metadata": {
  "kernelspec": {
   "display_name": "Python 3 (ipykernel)",
   "language": "python",
   "name": "python3"
  },
  "language_info": {
   "codemirror_mode": {
    "name": "ipython",
    "version": 3
   },
   "file_extension": ".py",
   "mimetype": "text/x-python",
   "name": "python",
   "nbconvert_exporter": "python",
   "pygments_lexer": "ipython3",
   "version": "3.8.10"
  }
 },
 "nbformat": 4,
 "nbformat_minor": 5
}
